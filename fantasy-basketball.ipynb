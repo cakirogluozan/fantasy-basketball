{
 "cells": [
  {
   "cell_type": "code",
   "execution_count": 1,
   "metadata": {},
   "outputs": [
    {
     "name": "stdout",
     "output_type": "stream",
     "text": [
      "Archive:  data.zip\n",
      "  inflating: players_metadata.csv    \n",
      "  inflating: players.json            \n"
     ]
    }
   ],
   "source": [
    "!unzip data.zip"
   ]
  },
  {
   "cell_type": "code",
   "execution_count": 1,
   "metadata": {},
   "outputs": [],
   "source": [
    "import json\n",
    "import pandas as pd\n",
    "import csv\n",
    "import matplotlib.pyplot as plt\n",
    "import string\n",
    "import numpy as np\n"
   ]
  },
  {
   "cell_type": "code",
   "execution_count": 2,
   "metadata": {},
   "outputs": [],
   "source": [
    "json_file = open('players.json')\n",
    "data = json.load(json_file)\n"
   ]
  },
  {
   "cell_type": "code",
   "execution_count": 3,
   "metadata": {},
   "outputs": [],
   "source": [
    "json_df = pd.read_json(r'players.json')"
   ]
  },
  {
   "cell_type": "code",
   "execution_count": 4,
   "metadata": {},
   "outputs": [
    {
     "data": {
      "text/html": [
       "<div>\n",
       "<style scoped>\n",
       "    .dataframe tbody tr th:only-of-type {\n",
       "        vertical-align: middle;\n",
       "    }\n",
       "\n",
       "    .dataframe tbody tr th {\n",
       "        vertical-align: top;\n",
       "    }\n",
       "\n",
       "    .dataframe thead th {\n",
       "        text-align: right;\n",
       "    }\n",
       "</style>\n",
       "<table border=\"1\" class=\"dataframe\">\n",
       "  <thead>\n",
       "    <tr style=\"text-align: right;\">\n",
       "      <th></th>\n",
       "      <th>id</th>\n",
       "      <th>squad_id</th>\n",
       "      <th>cost</th>\n",
       "      <th>status</th>\n",
       "      <th>stats</th>\n",
       "      <th>positions</th>\n",
       "      <th>is_bye</th>\n",
       "      <th>locked</th>\n",
       "      <th>notes</th>\n",
       "      <th>Player_Name</th>\n",
       "    </tr>\n",
       "  </thead>\n",
       "  <tbody>\n",
       "    <tr>\n",
       "      <th>0</th>\n",
       "      <td>1</td>\n",
       "      <td>12</td>\n",
       "      <td>350000</td>\n",
       "      <td>playing</td>\n",
       "      <td>{'scores': {'33': 3, '32': 8.8, '31': -2, '30'...</td>\n",
       "      <td>[2]</td>\n",
       "      <td>0</td>\n",
       "      <td>0</td>\n",
       "      <td>{}</td>\n",
       "      <td>STRELNIEKS, JANIS</td>\n",
       "    </tr>\n",
       "    <tr>\n",
       "      <th>1</th>\n",
       "      <td>2</td>\n",
       "      <td>16</td>\n",
       "      <td>680000</td>\n",
       "      <td>playing</td>\n",
       "      <td>{'scores': {'33': 4.4, '32': 13, '31': 2.2, '3...</td>\n",
       "      <td>[1]</td>\n",
       "      <td>0</td>\n",
       "      <td>0</td>\n",
       "      <td>{}</td>\n",
       "      <td>KAVALIAUSKAS, ANTANAS</td>\n",
       "    </tr>\n",
       "    <tr>\n",
       "      <th>2</th>\n",
       "      <td>3</td>\n",
       "      <td>7</td>\n",
       "      <td>460000</td>\n",
       "      <td>not-playing</td>\n",
       "      <td>{'scores': {'30': 1, '29': 5.5, '28': 0, '27':...</td>\n",
       "      <td>[3]</td>\n",
       "      <td>1</td>\n",
       "      <td>0</td>\n",
       "      <td>{}</td>\n",
       "      <td>BERTANS, DAIRIS</td>\n",
       "    </tr>\n",
       "  </tbody>\n",
       "</table>\n",
       "</div>"
      ],
      "text/plain": [
       "   id  squad_id    cost       status  \\\n",
       "0   1        12  350000      playing   \n",
       "1   2        16  680000      playing   \n",
       "2   3         7  460000  not-playing   \n",
       "\n",
       "                                               stats positions  is_bye  \\\n",
       "0  {'scores': {'33': 3, '32': 8.8, '31': -2, '30'...       [2]       0   \n",
       "1  {'scores': {'33': 4.4, '32': 13, '31': 2.2, '3...       [1]       0   \n",
       "2  {'scores': {'30': 1, '29': 5.5, '28': 0, '27':...       [3]       1   \n",
       "\n",
       "   locked notes            Player_Name  \n",
       "0       0    {}      STRELNIEKS, JANIS  \n",
       "1       0    {}  KAVALIAUSKAS, ANTANAS  \n",
       "2       0    {}        BERTANS, DAIRIS  "
      ]
     },
     "execution_count": 4,
     "metadata": {},
     "output_type": "execute_result"
    }
   ],
   "source": [
    "json_df['Player_Name'] = json_df.last_name.str.upper() + ', '+ json_df.first_name.str.upper()\n",
    "json_df = json_df.drop(columns=['first_name', 'last_name'])\n",
    "json_df.head(3)"
   ]
  },
  {
   "cell_type": "code",
   "execution_count": 5,
   "metadata": {},
   "outputs": [
    {
     "data": {
      "text/html": [
       "<div>\n",
       "<style scoped>\n",
       "    .dataframe tbody tr th:only-of-type {\n",
       "        vertical-align: middle;\n",
       "    }\n",
       "\n",
       "    .dataframe tbody tr th {\n",
       "        vertical-align: top;\n",
       "    }\n",
       "\n",
       "    .dataframe thead th {\n",
       "        text-align: right;\n",
       "    }\n",
       "</style>\n",
       "<table border=\"1\" class=\"dataframe\">\n",
       "  <thead>\n",
       "    <tr style=\"text-align: right;\">\n",
       "      <th></th>\n",
       "      <th>Player_Name</th>\n",
       "      <th>cost</th>\n",
       "      <th>status</th>\n",
       "      <th>stats</th>\n",
       "      <th>positions</th>\n",
       "      <th>is_bye</th>\n",
       "      <th>locked</th>\n",
       "      <th>notes</th>\n",
       "    </tr>\n",
       "  </thead>\n",
       "  <tbody>\n",
       "    <tr>\n",
       "      <th>0</th>\n",
       "      <td>STRELNIEKS, JANIS</td>\n",
       "      <td>350000</td>\n",
       "      <td>playing</td>\n",
       "      <td>{'scores': {'33': 3, '32': 8.8, '31': -2, '30'...</td>\n",
       "      <td>[2]</td>\n",
       "      <td>0</td>\n",
       "      <td>0</td>\n",
       "      <td>{}</td>\n",
       "    </tr>\n",
       "    <tr>\n",
       "      <th>1</th>\n",
       "      <td>KAVALIAUSKAS, ANTANAS</td>\n",
       "      <td>680000</td>\n",
       "      <td>playing</td>\n",
       "      <td>{'scores': {'33': 4.4, '32': 13, '31': 2.2, '3...</td>\n",
       "      <td>[1]</td>\n",
       "      <td>0</td>\n",
       "      <td>0</td>\n",
       "      <td>{}</td>\n",
       "    </tr>\n",
       "    <tr>\n",
       "      <th>2</th>\n",
       "      <td>BERTANS, DAIRIS</td>\n",
       "      <td>460000</td>\n",
       "      <td>not-playing</td>\n",
       "      <td>{'scores': {'30': 1, '29': 5.5, '28': 0, '27':...</td>\n",
       "      <td>[3]</td>\n",
       "      <td>1</td>\n",
       "      <td>0</td>\n",
       "      <td>{}</td>\n",
       "    </tr>\n",
       "    <tr>\n",
       "      <th>3</th>\n",
       "      <td>PAPPAS, NIKOS</td>\n",
       "      <td>280000</td>\n",
       "      <td>playing</td>\n",
       "      <td>{'scores': {'33': -1, '32': -2, '31': -1.8, '3...</td>\n",
       "      <td>[3]</td>\n",
       "      <td>0</td>\n",
       "      <td>0</td>\n",
       "      <td>{}</td>\n",
       "    </tr>\n",
       "    <tr>\n",
       "      <th>4</th>\n",
       "      <td>GULER, SINAN</td>\n",
       "      <td>180000</td>\n",
       "      <td>playing</td>\n",
       "      <td>{'scores': {'23': 2.2, '22': 0, '21': 2, '19':...</td>\n",
       "      <td>[2, 3]</td>\n",
       "      <td>0</td>\n",
       "      <td>0</td>\n",
       "      <td>{}</td>\n",
       "    </tr>\n",
       "  </tbody>\n",
       "</table>\n",
       "</div>"
      ],
      "text/plain": [
       "             Player_Name    cost       status  \\\n",
       "0      STRELNIEKS, JANIS  350000      playing   \n",
       "1  KAVALIAUSKAS, ANTANAS  680000      playing   \n",
       "2        BERTANS, DAIRIS  460000  not-playing   \n",
       "3          PAPPAS, NIKOS  280000      playing   \n",
       "4           GULER, SINAN  180000      playing   \n",
       "\n",
       "                                               stats positions  is_bye  \\\n",
       "0  {'scores': {'33': 3, '32': 8.8, '31': -2, '30'...       [2]       0   \n",
       "1  {'scores': {'33': 4.4, '32': 13, '31': 2.2, '3...       [1]       0   \n",
       "2  {'scores': {'30': 1, '29': 5.5, '28': 0, '27':...       [3]       1   \n",
       "3  {'scores': {'33': -1, '32': -2, '31': -1.8, '3...       [3]       0   \n",
       "4  {'scores': {'23': 2.2, '22': 0, '21': 2, '19':...    [2, 3]       0   \n",
       "\n",
       "   locked notes  \n",
       "0       0    {}  \n",
       "1       0    {}  \n",
       "2       0    {}  \n",
       "3       0    {}  \n",
       "4       0    {}  "
      ]
     },
     "execution_count": 5,
     "metadata": {},
     "output_type": "execute_result"
    }
   ],
   "source": [
    "json_df =json_df.reindex(columns=['Player_Name', 'cost', 'status', 'stats', 'positions', 'is_bye', 'locked', 'notes'])\n",
    "json_df.head()\n"
   ]
  },
  {
   "cell_type": "code",
   "execution_count": 6,
   "metadata": {},
   "outputs": [],
   "source": [
    "stats_df = pd.DataFrame(json_df.stats)"
   ]
  },
  {
   "cell_type": "code",
   "execution_count": 7,
   "metadata": {},
   "outputs": [],
   "source": [
    "stat_columns = []\n",
    "stat_columns = list(stats_df.stats.loc[0].keys())\n",
    "stats_dic = {}\n",
    "\n",
    "processed_stats_df = pd.DataFrame()\n",
    "\n",
    "for ind in range(len(stats_df)):\n",
    "    processed_stats_df = processed_stats_df.append(stats_df.stats.loc[ind], ignore_index=True)\n",
    "    "
   ]
  },
  {
   "cell_type": "code",
   "execution_count": 8,
   "metadata": {},
   "outputs": [
    {
     "data": {
      "text/html": [
       "<div>\n",
       "<style scoped>\n",
       "    .dataframe tbody tr th:only-of-type {\n",
       "        vertical-align: middle;\n",
       "    }\n",
       "\n",
       "    .dataframe tbody tr th {\n",
       "        vertical-align: top;\n",
       "    }\n",
       "\n",
       "    .dataframe thead th {\n",
       "        text-align: right;\n",
       "    }\n",
       "</style>\n",
       "<table border=\"1\" class=\"dataframe\">\n",
       "  <thead>\n",
       "    <tr style=\"text-align: right;\">\n",
       "      <th></th>\n",
       "      <th>Player_Name</th>\n",
       "      <th>cost</th>\n",
       "      <th>status</th>\n",
       "      <th>stats</th>\n",
       "      <th>positions</th>\n",
       "      <th>is_bye</th>\n",
       "      <th>locked</th>\n",
       "      <th>notes</th>\n",
       "      <th>avg_points</th>\n",
       "      <th>games_played</th>\n",
       "      <th>...</th>\n",
       "      <th>last_5_avg</th>\n",
       "      <th>low_score</th>\n",
       "      <th>match_scores</th>\n",
       "      <th>owned_by</th>\n",
       "      <th>prices</th>\n",
       "      <th>round_rank</th>\n",
       "      <th>scores</th>\n",
       "      <th>season_rank</th>\n",
       "      <th>selections</th>\n",
       "      <th>total_points</th>\n",
       "    </tr>\n",
       "  </thead>\n",
       "  <tbody>\n",
       "    <tr>\n",
       "      <th>0</th>\n",
       "      <td>STRELNIEKS, JANIS</td>\n",
       "      <td>350000</td>\n",
       "      <td>playing</td>\n",
       "      <td>{'scores': {'33': 3, '32': 8.8, '31': -2, '30'...</td>\n",
       "      <td>[2]</td>\n",
       "      <td>0</td>\n",
       "      <td>0</td>\n",
       "      <td>{}</td>\n",
       "      <td>7.15</td>\n",
       "      <td>33.0</td>\n",
       "      <td>...</td>\n",
       "      <td>3.36</td>\n",
       "      <td>-3.0</td>\n",
       "      <td>{'2017330251': 3, '2017320247': 8.8, '20173102...</td>\n",
       "      <td>5.0</td>\n",
       "      <td>{'1': 1000000, '2': 970000, '3': 890000, '4': ...</td>\n",
       "      <td>59.0</td>\n",
       "      <td>{'33': 3, '32': 8.8, '31': -2, '30': 6, '29': ...</td>\n",
       "      <td>116.0</td>\n",
       "      <td>4966.0</td>\n",
       "      <td>235.9</td>\n",
       "    </tr>\n",
       "  </tbody>\n",
       "</table>\n",
       "<p>1 rows × 22 columns</p>\n",
       "</div>"
      ],
      "text/plain": [
       "         Player_Name    cost   status  \\\n",
       "0  STRELNIEKS, JANIS  350000  playing   \n",
       "\n",
       "                                               stats positions  is_bye  \\\n",
       "0  {'scores': {'33': 3, '32': 8.8, '31': -2, '30'...       [2]       0   \n",
       "\n",
       "   locked notes  avg_points  games_played  ...  last_5_avg  low_score  \\\n",
       "0       0    {}        7.15          33.0  ...        3.36       -3.0   \n",
       "\n",
       "                                        match_scores  owned_by  \\\n",
       "0  {'2017330251': 3, '2017320247': 8.8, '20173102...       5.0   \n",
       "\n",
       "                                              prices  round_rank  \\\n",
       "0  {'1': 1000000, '2': 970000, '3': 890000, '4': ...        59.0   \n",
       "\n",
       "                                              scores  season_rank selections  \\\n",
       "0  {'33': 3, '32': 8.8, '31': -2, '30': 6, '29': ...        116.0     4966.0   \n",
       "\n",
       "   total_points  \n",
       "0         235.9  \n",
       "\n",
       "[1 rows x 22 columns]"
      ]
     },
     "execution_count": 8,
     "metadata": {},
     "output_type": "execute_result"
    }
   ],
   "source": [
    "processed_json_df = pd.merge(json_df, processed_stats_df, on=json_df.index).drop(columns='key_0')\n",
    "processed_json_df.head(1)"
   ]
  },
  {
   "cell_type": "code",
   "execution_count": 9,
   "metadata": {},
   "outputs": [],
   "source": [
    "selected_json_df = processed_json_df[['Player_Name', 'cost', 'avg_points', 'selections']]"
   ]
  },
  {
   "cell_type": "code",
   "execution_count": 10,
   "metadata": {},
   "outputs": [],
   "source": [
    "selected_json_df = selected_json_df.set_index(selected_json_df.Player_Name).drop(columns = 'Player_Name').sort_index()"
   ]
  },
  {
   "cell_type": "code",
   "execution_count": 11,
   "metadata": {},
   "outputs": [
    {
     "data": {
      "text/html": [
       "<div>\n",
       "<style scoped>\n",
       "    .dataframe tbody tr th:only-of-type {\n",
       "        vertical-align: middle;\n",
       "    }\n",
       "\n",
       "    .dataframe tbody tr th {\n",
       "        vertical-align: top;\n",
       "    }\n",
       "\n",
       "    .dataframe thead th {\n",
       "        text-align: right;\n",
       "    }\n",
       "</style>\n",
       "<table border=\"1\" class=\"dataframe\">\n",
       "  <thead>\n",
       "    <tr style=\"text-align: right;\">\n",
       "      <th></th>\n",
       "      <th>cost</th>\n",
       "      <th>avg_points</th>\n",
       "      <th>selections</th>\n",
       "    </tr>\n",
       "    <tr>\n",
       "      <th>Player_Name</th>\n",
       "      <th></th>\n",
       "      <th></th>\n",
       "      <th></th>\n",
       "    </tr>\n",
       "  </thead>\n",
       "  <tbody>\n",
       "    <tr>\n",
       "      <th>ABALDE, ALBERTO</th>\n",
       "      <td>860000</td>\n",
       "      <td>7.39</td>\n",
       "      <td>1522.0</td>\n",
       "    </tr>\n",
       "    <tr>\n",
       "      <th>ABASS, AWUDU</th>\n",
       "      <td>150000</td>\n",
       "      <td>0.74</td>\n",
       "      <td>595.0</td>\n",
       "    </tr>\n",
       "    <tr>\n",
       "      <th>ADAMS, JOSH</th>\n",
       "      <td>630000</td>\n",
       "      <td>6.66</td>\n",
       "      <td>566.0</td>\n",
       "    </tr>\n",
       "    <tr>\n",
       "      <th>AGRAVANIS, DIMITRIOS</th>\n",
       "      <td>350000</td>\n",
       "      <td>2.74</td>\n",
       "      <td>4537.0</td>\n",
       "    </tr>\n",
       "    <tr>\n",
       "      <th>ANDERSON, JAMES</th>\n",
       "      <td>660000</td>\n",
       "      <td>8.49</td>\n",
       "      <td>3854.0</td>\n",
       "    </tr>\n",
       "  </tbody>\n",
       "</table>\n",
       "</div>"
      ],
      "text/plain": [
       "                        cost  avg_points  selections\n",
       "Player_Name                                         \n",
       "ABALDE, ALBERTO       860000        7.39      1522.0\n",
       "ABASS, AWUDU          150000        0.74       595.0\n",
       "ADAMS, JOSH           630000        6.66       566.0\n",
       "AGRAVANIS, DIMITRIOS  350000        2.74      4537.0\n",
       "ANDERSON, JAMES       660000        8.49      3854.0"
      ]
     },
     "execution_count": 11,
     "metadata": {},
     "output_type": "execute_result"
    }
   ],
   "source": [
    "selected_json_df.head()"
   ]
  },
  {
   "cell_type": "code",
   "execution_count": 12,
   "metadata": {},
   "outputs": [
    {
     "data": {
      "text/html": [
       "<div>\n",
       "<style scoped>\n",
       "    .dataframe tbody tr th:only-of-type {\n",
       "        vertical-align: middle;\n",
       "    }\n",
       "\n",
       "    .dataframe tbody tr th {\n",
       "        vertical-align: top;\n",
       "    }\n",
       "\n",
       "    .dataframe thead th {\n",
       "        text-align: right;\n",
       "    }\n",
       "</style>\n",
       "<table border=\"1\" class=\"dataframe\">\n",
       "  <thead>\n",
       "    <tr style=\"text-align: right;\">\n",
       "      <th></th>\n",
       "      <th>cost</th>\n",
       "      <th>avg_points</th>\n",
       "      <th>selections</th>\n",
       "    </tr>\n",
       "  </thead>\n",
       "  <tbody>\n",
       "    <tr>\n",
       "      <th>count</th>\n",
       "      <td>274.0</td>\n",
       "      <td>274.0</td>\n",
       "      <td>274.0</td>\n",
       "    </tr>\n",
       "    <tr>\n",
       "      <th>mean</th>\n",
       "      <td>728285.0</td>\n",
       "      <td>6.0</td>\n",
       "      <td>4310.0</td>\n",
       "    </tr>\n",
       "    <tr>\n",
       "      <th>std</th>\n",
       "      <td>513852.0</td>\n",
       "      <td>5.0</td>\n",
       "      <td>5685.0</td>\n",
       "    </tr>\n",
       "    <tr>\n",
       "      <th>min</th>\n",
       "      <td>120000.0</td>\n",
       "      <td>-4.0</td>\n",
       "      <td>2.0</td>\n",
       "    </tr>\n",
       "    <tr>\n",
       "      <th>25%</th>\n",
       "      <td>272500.0</td>\n",
       "      <td>2.0</td>\n",
       "      <td>1034.0</td>\n",
       "    </tr>\n",
       "    <tr>\n",
       "      <th>50%</th>\n",
       "      <td>630000.0</td>\n",
       "      <td>6.0</td>\n",
       "      <td>2271.0</td>\n",
       "    </tr>\n",
       "    <tr>\n",
       "      <th>75%</th>\n",
       "      <td>1060000.0</td>\n",
       "      <td>10.0</td>\n",
       "      <td>4945.0</td>\n",
       "    </tr>\n",
       "    <tr>\n",
       "      <th>max</th>\n",
       "      <td>2220000.0</td>\n",
       "      <td>23.0</td>\n",
       "      <td>39332.0</td>\n",
       "    </tr>\n",
       "  </tbody>\n",
       "</table>\n",
       "</div>"
      ],
      "text/plain": [
       "            cost  avg_points  selections\n",
       "count      274.0       274.0       274.0\n",
       "mean    728285.0         6.0      4310.0\n",
       "std     513852.0         5.0      5685.0\n",
       "min     120000.0        -4.0         2.0\n",
       "25%     272500.0         2.0      1034.0\n",
       "50%     630000.0         6.0      2271.0\n",
       "75%    1060000.0        10.0      4945.0\n",
       "max    2220000.0        23.0     39332.0"
      ]
     },
     "execution_count": 12,
     "metadata": {},
     "output_type": "execute_result"
    }
   ],
   "source": [
    "selected_json_df.describe().round()"
   ]
  },
  {
   "cell_type": "code",
   "execution_count": 13,
   "metadata": {},
   "outputs": [
    {
     "data": {
      "text/html": [
       "<div>\n",
       "<style scoped>\n",
       "    .dataframe tbody tr th:only-of-type {\n",
       "        vertical-align: middle;\n",
       "    }\n",
       "\n",
       "    .dataframe tbody tr th {\n",
       "        vertical-align: top;\n",
       "    }\n",
       "\n",
       "    .dataframe thead th {\n",
       "        text-align: right;\n",
       "    }\n",
       "</style>\n",
       "<table border=\"1\" class=\"dataframe\">\n",
       "  <thead>\n",
       "    <tr style=\"text-align: right;\">\n",
       "      <th></th>\n",
       "      <th>cost</th>\n",
       "      <th>avg_points</th>\n",
       "      <th>selections</th>\n",
       "    </tr>\n",
       "    <tr>\n",
       "      <th>Player_Name</th>\n",
       "      <th></th>\n",
       "      <th></th>\n",
       "      <th></th>\n",
       "    </tr>\n",
       "  </thead>\n",
       "  <tbody>\n",
       "    <tr>\n",
       "      <th>ABALDE, ALBERTO</th>\n",
       "      <td>860000</td>\n",
       "      <td>7.39</td>\n",
       "      <td>1522.0</td>\n",
       "    </tr>\n",
       "    <tr>\n",
       "      <th>ABASS, AWUDU</th>\n",
       "      <td>150000</td>\n",
       "      <td>0.74</td>\n",
       "      <td>595.0</td>\n",
       "    </tr>\n",
       "    <tr>\n",
       "      <th>ADAMS, JOSH</th>\n",
       "      <td>630000</td>\n",
       "      <td>6.66</td>\n",
       "      <td>566.0</td>\n",
       "    </tr>\n",
       "    <tr>\n",
       "      <th>AGRAVANIS, DIMITRIOS</th>\n",
       "      <td>350000</td>\n",
       "      <td>2.74</td>\n",
       "      <td>4537.0</td>\n",
       "    </tr>\n",
       "    <tr>\n",
       "      <th>ANDERSON, JAMES</th>\n",
       "      <td>660000</td>\n",
       "      <td>8.49</td>\n",
       "      <td>3854.0</td>\n",
       "    </tr>\n",
       "    <tr>\n",
       "      <th>ANTETOKOUNMPO, THANASIS</th>\n",
       "      <td>560000</td>\n",
       "      <td>4.17</td>\n",
       "      <td>14152.0</td>\n",
       "    </tr>\n",
       "    <tr>\n",
       "      <th>ANTIC, PERO</th>\n",
       "      <td>350000</td>\n",
       "      <td>6.60</td>\n",
       "      <td>4610.0</td>\n",
       "    </tr>\n",
       "    <tr>\n",
       "      <th>ANTONOV, SEMEN</th>\n",
       "      <td>440000</td>\n",
       "      <td>4.40</td>\n",
       "      <td>2419.0</td>\n",
       "    </tr>\n",
       "    <tr>\n",
       "      <th>APIC, DRAGAN</th>\n",
       "      <td>120000</td>\n",
       "      <td>-0.67</td>\n",
       "      <td>3590.0</td>\n",
       "    </tr>\n",
       "    <tr>\n",
       "      <th>ARLAUSKAS, MARTYNAS</th>\n",
       "      <td>120000</td>\n",
       "      <td>0.23</td>\n",
       "      <td>14969.0</td>\n",
       "    </tr>\n",
       "    <tr>\n",
       "      <th>ARNA, EGEHAN</th>\n",
       "      <td>170000</td>\n",
       "      <td>2.20</td>\n",
       "      <td>5276.0</td>\n",
       "    </tr>\n",
       "    <tr>\n",
       "      <th>ARSENOPOULOS, NIKOS</th>\n",
       "      <td>140000</td>\n",
       "      <td>0.00</td>\n",
       "      <td>5961.0</td>\n",
       "    </tr>\n",
       "    <tr>\n",
       "      <th>ASTAPKOVIC, ANTON</th>\n",
       "      <td>150000</td>\n",
       "      <td>0.00</td>\n",
       "      <td>118.0</td>\n",
       "    </tr>\n",
       "    <tr>\n",
       "      <th>AUGUSTE, ZACH</th>\n",
       "      <td>180000</td>\n",
       "      <td>1.07</td>\n",
       "      <td>2904.0</td>\n",
       "    </tr>\n",
       "    <tr>\n",
       "      <th>AUGUSTINE, JAMES</th>\n",
       "      <td>1570000</td>\n",
       "      <td>15.11</td>\n",
       "      <td>1698.0</td>\n",
       "    </tr>\n",
       "    <tr>\n",
       "      <th>AVDIJA, DENI</th>\n",
       "      <td>150000</td>\n",
       "      <td>0.00</td>\n",
       "      <td>102.0</td>\n",
       "    </tr>\n",
       "    <tr>\n",
       "      <th>AYON, GUSTAVO</th>\n",
       "      <td>1400000</td>\n",
       "      <td>15.39</td>\n",
       "      <td>5409.0</td>\n",
       "    </tr>\n",
       "  </tbody>\n",
       "</table>\n",
       "</div>"
      ],
      "text/plain": [
       "                            cost  avg_points  selections\n",
       "Player_Name                                             \n",
       "ABALDE, ALBERTO           860000        7.39      1522.0\n",
       "ABASS, AWUDU              150000        0.74       595.0\n",
       "ADAMS, JOSH               630000        6.66       566.0\n",
       "AGRAVANIS, DIMITRIOS      350000        2.74      4537.0\n",
       "ANDERSON, JAMES           660000        8.49      3854.0\n",
       "ANTETOKOUNMPO, THANASIS   560000        4.17     14152.0\n",
       "ANTIC, PERO               350000        6.60      4610.0\n",
       "ANTONOV, SEMEN            440000        4.40      2419.0\n",
       "APIC, DRAGAN              120000       -0.67      3590.0\n",
       "ARLAUSKAS, MARTYNAS       120000        0.23     14969.0\n",
       "ARNA, EGEHAN              170000        2.20      5276.0\n",
       "ARSENOPOULOS, NIKOS       140000        0.00      5961.0\n",
       "ASTAPKOVIC, ANTON         150000        0.00       118.0\n",
       "AUGUSTE, ZACH             180000        1.07      2904.0\n",
       "AUGUSTINE, JAMES         1570000       15.11      1698.0\n",
       "AVDIJA, DENI              150000        0.00       102.0\n",
       "AYON, GUSTAVO            1400000       15.39      5409.0"
      ]
     },
     "execution_count": 13,
     "metadata": {},
     "output_type": "execute_result"
    }
   ],
   "source": [
    "ind_startswith = selected_json_df.index.str.startswith('A')\n",
    "\n",
    "selected_json_df.loc[ind_startswith]"
   ]
  },
  {
   "cell_type": "code",
   "execution_count": 33,
   "metadata": {},
   "outputs": [
    {
     "data": {
      "text/plain": [
       "Text(0.5, 0, 'Selections')"
      ]
     },
     "execution_count": 33,
     "metadata": {},
     "output_type": "execute_result"
    },
    {
     "data": {
      "image/png": "[encoded data removed]",
      "text/plain": [
       "<Figure size 1080x576 with 1 Axes>"
      ]
     },
     "metadata": {
      "needs_background": "light"
     },
     "output_type": "display_data"
    },
    {
     "data": {
      "image/png": "[encoded data removed]",
      "text/plain": [
       "<Figure size 1080x576 with 1 Axes>"
      ]
     },
     "metadata": {
      "needs_background": "light"
     },
     "output_type": "display_data"
    },
    {
     "data": {
      "image/png": "[encoded data removed]",
      "text/plain": [
       "<Figure size 1080x576 with 1 Axes>"
      ]
     },
     "metadata": {
      "needs_background": "light"
     },
     "output_type": "display_data"
    }
   ],
   "source": [
    "# alphabet = list(string.ascii_uppercase)\n",
    "# for letter in alphabet: \n",
    "    # ind_startswith = selected_json_df.index.str.startswith(letter)\n",
    "\n",
    "plt.figure()\n",
    "selected_json_df.cost.plot.hist(figsize=(15,8),rot=90, title='Cost Histogram', bins=40)\n",
    "plt.ylabel('Count')\n",
    "plt.xlabel('COST')\n",
    "\n",
    "plt.figure()\n",
    "selected_json_df.avg_points.plot.hist(figsize=(15,8),rot=90, title='Average Points Histogram', bins=40)\n",
    "plt.ylabel('Count')\n",
    "plt.xlabel('Average Points')\n",
    "\n",
    "plt.figure()\n",
    "selected_json_df.selections.plot.hist(figsize=(15,8),rot=90, title='Selections Histogram', bins=40)\n",
    "plt.ylabel('Count')\n",
    "plt.xlabel('Selections')\n"
   ]
  },
  {
   "cell_type": "code",
   "execution_count": 35,
   "metadata": {},
   "outputs": [],
   "source": [
    "csv_df = pd.read_csv('players_metadata.csv', delimiter='|')"
   ]
  },
  {
   "cell_type": "code",
   "execution_count": 36,
   "metadata": {},
   "outputs": [
    {
     "data": {
      "text/html": [
       "<div>\n",
       "<style scoped>\n",
       "    .dataframe tbody tr th:only-of-type {\n",
       "        vertical-align: middle;\n",
       "    }\n",
       "\n",
       "    .dataframe tbody tr th {\n",
       "        vertical-align: top;\n",
       "    }\n",
       "\n",
       "    .dataframe thead th {\n",
       "        text-align: right;\n",
       "    }\n",
       "</style>\n",
       "<table border=\"1\" class=\"dataframe\">\n",
       "  <thead>\n",
       "    <tr style=\"text-align: right;\">\n",
       "      <th></th>\n",
       "      <th>Player_Name</th>\n",
       "      <th>position</th>\n",
       "      <th>nationality</th>\n",
       "    </tr>\n",
       "  </thead>\n",
       "  <tbody>\n",
       "    <tr>\n",
       "      <th>0</th>\n",
       "      <td>ABALDE, ALBERTO</td>\n",
       "      <td>Forward</td>\n",
       "      <td>Spain</td>\n",
       "    </tr>\n",
       "    <tr>\n",
       "      <th>1</th>\n",
       "      <td>ABASS, AWUDU</td>\n",
       "      <td>Guard</td>\n",
       "      <td>Italy</td>\n",
       "    </tr>\n",
       "    <tr>\n",
       "      <th>2</th>\n",
       "      <td>ADAMS, JOSH</td>\n",
       "      <td>Guard</td>\n",
       "      <td>United States of America</td>\n",
       "    </tr>\n",
       "    <tr>\n",
       "      <th>3</th>\n",
       "      <td>AGRAVANIS, DIMITRIS</td>\n",
       "      <td>Forward</td>\n",
       "      <td>Greece</td>\n",
       "    </tr>\n",
       "    <tr>\n",
       "      <th>4</th>\n",
       "      <td>ANDERSON, JAMES</td>\n",
       "      <td>Guard</td>\n",
       "      <td>United States of America</td>\n",
       "    </tr>\n",
       "  </tbody>\n",
       "</table>\n",
       "</div>"
      ],
      "text/plain": [
       "           Player_Name position               nationality\n",
       "0      ABALDE, ALBERTO  Forward                     Spain\n",
       "1         ABASS, AWUDU    Guard                     Italy\n",
       "2          ADAMS, JOSH    Guard  United States of America\n",
       "3  AGRAVANIS, DIMITRIS  Forward                    Greece\n",
       "4      ANDERSON, JAMES    Guard  United States of America"
      ]
     },
     "execution_count": 36,
     "metadata": {},
     "output_type": "execute_result"
    }
   ],
   "source": [
    "csv_df.head()"
   ]
  },
  {
   "cell_type": "code",
   "execution_count": 157,
   "metadata": {},
   "outputs": [
    {
     "data": {
      "text/html": [
       "<div>\n",
       "<style scoped>\n",
       "    .dataframe tbody tr th:only-of-type {\n",
       "        vertical-align: middle;\n",
       "    }\n",
       "\n",
       "    .dataframe tbody tr th {\n",
       "        vertical-align: top;\n",
       "    }\n",
       "\n",
       "    .dataframe thead th {\n",
       "        text-align: right;\n",
       "    }\n",
       "</style>\n",
       "<table border=\"1\" class=\"dataframe\">\n",
       "  <thead>\n",
       "    <tr style=\"text-align: right;\">\n",
       "      <th></th>\n",
       "      <th>Player_Name</th>\n",
       "      <th>cost</th>\n",
       "      <th>avg_points</th>\n",
       "      <th>selections</th>\n",
       "      <th>position</th>\n",
       "      <th>nationality</th>\n",
       "    </tr>\n",
       "  </thead>\n",
       "  <tbody>\n",
       "    <tr>\n",
       "      <th>0</th>\n",
       "      <td>ABALDE, ALBERTO</td>\n",
       "      <td>860000</td>\n",
       "      <td>7.39</td>\n",
       "      <td>1522.0</td>\n",
       "      <td>Forward</td>\n",
       "      <td>Spain</td>\n",
       "    </tr>\n",
       "  </tbody>\n",
       "</table>\n",
       "</div>"
      ],
      "text/plain": [
       "       Player_Name    cost  avg_points  selections position nationality\n",
       "0  ABALDE, ALBERTO  860000        7.39      1522.0  Forward       Spain"
      ]
     },
     "execution_count": 157,
     "metadata": {},
     "output_type": "execute_result"
    }
   ],
   "source": [
    "merged_df = pd.merge(selected_json_df, csv_df, on='Player_Name')\n",
    "merged_df.head(1)"
   ]
  },
  {
   "cell_type": "code",
   "execution_count": 158,
   "metadata": {},
   "outputs": [
    {
     "data": {
      "image/png": "[encoded data removed]",
      "text/plain": [
       "<Figure size 432x288 with 1 Axes>"
      ]
     },
     "metadata": {
      "needs_background": "light"
     },
     "output_type": "display_data"
    }
   ],
   "source": [
    "top3_nats = list(merged_df.nationality.value_counts()[:3].index)\n",
    "top3_inds = [False]*len(merged_df)\n",
    "\n",
    "for nat in top3_nats:\n",
    "    temp_inds = merged_df.nationality == nat\n",
    "    top3_inds = np.logical_or(top3_inds,  temp_inds)\n",
    "\n",
    "top3_df = merged_df[top3_inds]\n",
    "top3_df.boxplot(column='avg_points', by='position');\n",
    "plt.suptitle(\"\");\n",
    "plt.ylabel('Average Points');\n",
    "plt.xlabel('Positions');"
   ]
  },
  {
   "cell_type": "code",
   "execution_count": 159,
   "metadata": {},
   "outputs": [
    {
     "data": {
      "text/plain": [
       "Guard      97\n",
       "Forward    90\n",
       "Center     55\n",
       "Name: position, dtype: int64"
      ]
     },
     "execution_count": 159,
     "metadata": {},
     "output_type": "execute_result"
    }
   ],
   "source": [
    "merged_df.position.value_counts()"
   ]
  },
  {
   "cell_type": "code",
   "execution_count": 162,
   "metadata": {},
   "outputs": [
    {
     "data": {
      "text/html": [
       "<div>\n",
       "<style scoped>\n",
       "    .dataframe tbody tr th:only-of-type {\n",
       "        vertical-align: middle;\n",
       "    }\n",
       "\n",
       "    .dataframe tbody tr th {\n",
       "        vertical-align: top;\n",
       "    }\n",
       "\n",
       "    .dataframe thead th {\n",
       "        text-align: right;\n",
       "    }\n",
       "</style>\n",
       "<table border=\"1\" class=\"dataframe\">\n",
       "  <thead>\n",
       "    <tr style=\"text-align: right;\">\n",
       "      <th></th>\n",
       "      <th>Player_Name</th>\n",
       "      <th>cost</th>\n",
       "      <th>status</th>\n",
       "      <th>stats</th>\n",
       "      <th>positions</th>\n",
       "      <th>is_bye</th>\n",
       "      <th>locked</th>\n",
       "      <th>notes</th>\n",
       "      <th>avg_points</th>\n",
       "      <th>games_played</th>\n",
       "      <th>...</th>\n",
       "      <th>match_scores</th>\n",
       "      <th>owned_by</th>\n",
       "      <th>prices</th>\n",
       "      <th>round_rank</th>\n",
       "      <th>scores</th>\n",
       "      <th>season_rank</th>\n",
       "      <th>selections</th>\n",
       "      <th>total_points</th>\n",
       "      <th>position</th>\n",
       "      <th>nationality</th>\n",
       "    </tr>\n",
       "  </thead>\n",
       "  <tbody>\n",
       "    <tr>\n",
       "      <th>0</th>\n",
       "      <td>STRELNIEKS, JANIS</td>\n",
       "      <td>350000</td>\n",
       "      <td>playing</td>\n",
       "      <td>{'scores': {'33': 3, '32': 8.8, '31': -2, '30'...</td>\n",
       "      <td>[2]</td>\n",
       "      <td>0</td>\n",
       "      <td>0</td>\n",
       "      <td>{}</td>\n",
       "      <td>7.15</td>\n",
       "      <td>33.0</td>\n",
       "      <td>...</td>\n",
       "      <td>{'2017330251': 3, '2017320247': 8.8, '20173102...</td>\n",
       "      <td>5.0</td>\n",
       "      <td>{'1': 1000000, '2': 970000, '3': 890000, '4': ...</td>\n",
       "      <td>59.0</td>\n",
       "      <td>{'33': 3, '32': 8.8, '31': -2, '30': 6, '29': ...</td>\n",
       "      <td>116.0</td>\n",
       "      <td>4966.0</td>\n",
       "      <td>235.9</td>\n",
       "      <td>Guard</td>\n",
       "      <td>Latvia</td>\n",
       "    </tr>\n",
       "  </tbody>\n",
       "</table>\n",
       "<p>1 rows × 24 columns</p>\n",
       "</div>"
      ],
      "text/plain": [
       "         Player_Name    cost   status  \\\n",
       "0  STRELNIEKS, JANIS  350000  playing   \n",
       "\n",
       "                                               stats positions  is_bye  \\\n",
       "0  {'scores': {'33': 3, '32': 8.8, '31': -2, '30'...       [2]       0   \n",
       "\n",
       "   locked notes  avg_points  games_played  ...  \\\n",
       "0       0    {}        7.15          33.0  ...   \n",
       "\n",
       "                                        match_scores  owned_by  \\\n",
       "0  {'2017330251': 3, '2017320247': 8.8, '20173102...       5.0   \n",
       "\n",
       "                                              prices  round_rank  \\\n",
       "0  {'1': 1000000, '2': 970000, '3': 890000, '4': ...        59.0   \n",
       "\n",
       "                                              scores  season_rank selections  \\\n",
       "0  {'33': 3, '32': 8.8, '31': -2, '30': 6, '29': ...        116.0     4966.0   \n",
       "\n",
       "   total_points position  nationality  \n",
       "0         235.9    Guard       Latvia  \n",
       "\n",
       "[1 rows x 24 columns]"
      ]
     },
     "execution_count": 162,
     "metadata": {},
     "output_type": "execute_result"
    }
   ],
   "source": [
    "ext_merged_df = pd.merge(processed_json_df, csv_df, on='Player_Name')\n",
    "ext_merged_df.head(1)"
   ]
  },
  {
   "cell_type": "code",
   "execution_count": 203,
   "metadata": {},
   "outputs": [
    {
     "data": {
      "text/html": [
       "<div>\n",
       "<style scoped>\n",
       "    .dataframe tbody tr th:only-of-type {\n",
       "        vertical-align: middle;\n",
       "    }\n",
       "\n",
       "    .dataframe tbody tr th {\n",
       "        vertical-align: top;\n",
       "    }\n",
       "\n",
       "    .dataframe thead th {\n",
       "        text-align: right;\n",
       "    }\n",
       "</style>\n",
       "<table border=\"1\" class=\"dataframe\">\n",
       "  <thead>\n",
       "    <tr style=\"text-align: right;\">\n",
       "      <th></th>\n",
       "      <th>scores</th>\n",
       "    </tr>\n",
       "  </thead>\n",
       "  <tbody>\n",
       "    <tr>\n",
       "      <th>0</th>\n",
       "      <td>{'33': 3, '32': 8.8, '31': -2, '30': 6, '29': ...</td>\n",
       "    </tr>\n",
       "    <tr>\n",
       "      <th>1</th>\n",
       "      <td>{'33': 4.4, '32': 13, '31': 2.2, '30': 5.5, '2...</td>\n",
       "    </tr>\n",
       "    <tr>\n",
       "      <th>2</th>\n",
       "      <td>{'30': 1, '29': 5.5, '28': 0, '27': 10, '26': ...</td>\n",
       "    </tr>\n",
       "    <tr>\n",
       "      <th>3</th>\n",
       "      <td>{'33': -1, '32': -2, '31': -1.8, '30': 8.8, '2...</td>\n",
       "    </tr>\n",
       "    <tr>\n",
       "      <th>4</th>\n",
       "      <td>{'23': 2.2, '22': 0, '21': 2, '19': 3.3, '17':...</td>\n",
       "    </tr>\n",
       "    <tr>\n",
       "      <th>...</th>\n",
       "      <td>...</td>\n",
       "    </tr>\n",
       "    <tr>\n",
       "      <th>269</th>\n",
       "      <td>{'33': 3, '32': 5, '31': 9.9, '30': 19.8, '29'...</td>\n",
       "    </tr>\n",
       "    <tr>\n",
       "      <th>270</th>\n",
       "      <td>{'16': 0, '14': -2, '13': -2, '12': 11, '11': ...</td>\n",
       "    </tr>\n",
       "    <tr>\n",
       "      <th>271</th>\n",
       "      <td>{'30': -1, '29': 11, '28': 22, '27': 11, '26':...</td>\n",
       "    </tr>\n",
       "    <tr>\n",
       "      <th>272</th>\n",
       "      <td>{'4': 6, '3': 0}</td>\n",
       "    </tr>\n",
       "    <tr>\n",
       "      <th>273</th>\n",
       "      <td>{'33': 7.7, '32': 9.9, '31': 7, '29': 8.8, '28...</td>\n",
       "    </tr>\n",
       "  </tbody>\n",
       "</table>\n",
       "<p>274 rows × 1 columns</p>\n",
       "</div>"
      ],
      "text/plain": [
       "                                                scores\n",
       "0    {'33': 3, '32': 8.8, '31': -2, '30': 6, '29': ...\n",
       "1    {'33': 4.4, '32': 13, '31': 2.2, '30': 5.5, '2...\n",
       "2    {'30': 1, '29': 5.5, '28': 0, '27': 10, '26': ...\n",
       "3    {'33': -1, '32': -2, '31': -1.8, '30': 8.8, '2...\n",
       "4    {'23': 2.2, '22': 0, '21': 2, '19': 3.3, '17':...\n",
       "..                                                 ...\n",
       "269  {'33': 3, '32': 5, '31': 9.9, '30': 19.8, '29'...\n",
       "270  {'16': 0, '14': -2, '13': -2, '12': 11, '11': ...\n",
       "271  {'30': -1, '29': 11, '28': 22, '27': 11, '26':...\n",
       "272                                   {'4': 6, '3': 0}\n",
       "273  {'33': 7.7, '32': 9.9, '31': 7, '29': 8.8, '28...\n",
       "\n",
       "[274 rows x 1 columns]"
      ]
     },
     "execution_count": 203,
     "metadata": {},
     "output_type": "execute_result"
    }
   ],
   "source": [
    "pd.DataFrame(processed_json_df['scores'])"
   ]
  },
  {
   "cell_type": "code",
   "execution_count": 247,
   "metadata": {},
   "outputs": [],
   "source": [
    "change_df = ext_merged_df[['Player_Name', 'scores', 'prices']]\n",
    "corr_df = pd.DataFrame(columns=['Player_Name', 'current-score', 'last5-scores', 'price_change', 'per_price_change'])\n",
    "price_dic = {}\n",
    "per_price_dic = {}\n",
    "score_dic = {}\n",
    "for ind in range(1, len(change_df)):\n",
    "    keys = list(change_df.loc[ind]['scores'].keys())\n",
    "    keys.reverse()\n",
    "    temp_dic = {}\n",
    "    temp_per_dic = {}\n",
    "    temp_score_dic = {}\n",
    "    for round_ in range(1, len(keys)):\n",
    "        curr_score = change_df.loc[ind]['scores'][keys[round_]]\n",
    "        \n",
    "        prev_price = change_df.loc[ind]['prices'][keys[round_-1]]\n",
    "        curr_price = change_df.loc[ind]['prices'][keys[round_]\n",
    "                                                 ]\n",
    "        price_change = curr_price - prev_price\n",
    "        percentage_price_change = round(100 * price_change / prev_price,3)\n",
    "        temp_dic[round_] = price_change \n",
    "        temp_per_dic[round_] = percentage_price_change \n",
    "        temp_score_dic[round_] = curr_score\n",
    "        \n",
    "    price_dic[change_df.loc[ind]['Player_Name']] = temp_dic\n",
    "    per_price_dic[change_df.loc[ind]['Player_Name']] = temp_per_dic\n",
    "    score_dic[change_df.loc[ind]['Player_Name']] = temp_score_dic"
   ]
  },
  {
   "cell_type": "code",
   "execution_count": 248,
   "metadata": {},
   "outputs": [],
   "source": [
    "price_df = pd.DataFrame(price_dic)\n",
    "per_price_df = pd.DataFrame(per_price_dic)\n",
    "score_df = pd.DataFrame(score_dic)\n"
   ]
  },
  {
   "cell_type": "code",
   "execution_count": 277,
   "metadata": {},
   "outputs": [],
   "source": [
    "current_round = 10\n",
    "\n",
    "if current_round > 5:\n",
    "    notna_ind = price_df.iloc[current_round].notna()\n",
    "    per_price_change_array = per_price_df.iloc[current_round][notna_ind]\n",
    "    curr_score = score_df.iloc[current_round][notna_ind]\n",
    "    prev_score = score_df.iloc[current_round-1][notna_ind]\n",
    "    pprev_score = score_df.iloc[current_round-2][notna_ind]   \n",
    "    ppprev_score = score_df.iloc[current_round-3][notna_ind]       \n",
    "    pppprev_score = score_df.iloc[current_round-4][notna_ind]\n",
    "    x = pd.DataFrame(np.array([per_price_change_array, curr_score, prev_score, pprev_score, ppprev_score, pppprev_score]))"
   ]
  },
  {
   "cell_type": "code",
   "execution_count": 278,
   "metadata": {},
   "outputs": [],
   "source": [
    "y = x.corr()"
   ]
  },
  {
   "cell_type": "code",
   "execution_count": 281,
   "metadata": {},
   "outputs": [
    {
     "data": {
      "text/plain": [
       "<Figure size 1080x1080 with 0 Axes>"
      ]
     },
     "metadata": {},
     "output_type": "display_data"
    },
    {
     "data": {
      "image/png": "[encoded data removed]",
      "text/plain": [
       "<Figure size 288x288 with 1 Axes>"
      ]
     },
     "metadata": {
      "needs_background": "light"
     },
     "output_type": "display_data"
    }
   ],
   "source": [
    "plt.figure(figsize=(15,15))\n",
    "plt.matshow(y)\n",
    "plt.show()"
   ]
  },
  {
   "cell_type": "code",
   "execution_count": null,
   "metadata": {},
   "outputs": [],
   "source": []
  }
 ],
 "metadata": {
  "kernelspec": {
   "display_name": "Python 3",
   "language": "python",
   "name": "python3"
  },
  "language_info": {
   "codemirror_mode": {
    "name": "ipython",
    "version": 3
   },
   "file_extension": ".py",
   "mimetype": "text/x-python",
   "name": "python",
   "nbconvert_exporter": "python",
   "pygments_lexer": "ipython3",
   "version": "3.6.8"
  }
 },
 "nbformat": 4,
 "nbformat_minor": 4
}
