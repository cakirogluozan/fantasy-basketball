{
 "cells": [
  {
   "cell_type": "code",
   "execution_count": 1,
   "metadata": {},
   "outputs": [
    {
     "name": "stdout",
     "output_type": "stream",
     "text": [
      "Archive:  data.zip\n",
      "  inflating: players_metadata.csv    \n",
      "  inflating: players.json            \n"
     ]
    }
   ],
   "source": [
    "!unzip data.zip"
   ]
  },
  {
   "cell_type": "markdown",
   "metadata": {},
   "source": [
    "### Import libraries"
   ]
  },
  {
   "cell_type": "code",
   "execution_count": 2,
   "metadata": {},
   "outputs": [],
   "source": [
    "import json\n",
    "import pandas as pd\n",
    "import csv\n",
    "import matplotlib.pyplot as plt\n",
    "import numpy as np\n",
    "from itertools import combinations \n",
    "import seaborn as sns\n",
    "\n",
    "from sklearn.ensemble import RandomForestRegressor\n",
    "from sklearn.metrics import mean_absolute_error\n",
    "from sklearn.model_selection import train_test_split\n"
   ]
  },
  {
   "cell_type": "markdown",
   "metadata": {},
   "source": [
    "### Read and Process JSON File"
   ]
  },
  {
   "cell_type": "code",
   "execution_count": 3,
   "metadata": {},
   "outputs": [
    {
     "data": {
      "text/html": [
       "<div>\n",
       "<style scoped>\n",
       "    .dataframe tbody tr th:only-of-type {\n",
       "        vertical-align: middle;\n",
       "    }\n",
       "\n",
       "    .dataframe tbody tr th {\n",
       "        vertical-align: top;\n",
       "    }\n",
       "\n",
       "    .dataframe thead th {\n",
       "        text-align: right;\n",
       "    }\n",
       "</style>\n",
       "<table border=\"1\" class=\"dataframe\">\n",
       "  <thead>\n",
       "    <tr style=\"text-align: right;\">\n",
       "      <th></th>\n",
       "      <th>Player_Name</th>\n",
       "      <th>cost</th>\n",
       "      <th>status</th>\n",
       "      <th>stats</th>\n",
       "      <th>positions</th>\n",
       "      <th>is_bye</th>\n",
       "      <th>locked</th>\n",
       "      <th>notes</th>\n",
       "    </tr>\n",
       "  </thead>\n",
       "  <tbody>\n",
       "    <tr>\n",
       "      <th>0</th>\n",
       "      <td>STRELNIEKS, JANIS</td>\n",
       "      <td>350000</td>\n",
       "      <td>playing</td>\n",
       "      <td>{'scores': {'33': 3, '32': 8.8, '31': -2, '30'...</td>\n",
       "      <td>[2]</td>\n",
       "      <td>0</td>\n",
       "      <td>0</td>\n",
       "      <td>{}</td>\n",
       "    </tr>\n",
       "    <tr>\n",
       "      <th>1</th>\n",
       "      <td>KAVALIAUSKAS, ANTANAS</td>\n",
       "      <td>680000</td>\n",
       "      <td>playing</td>\n",
       "      <td>{'scores': {'33': 4.4, '32': 13, '31': 2.2, '3...</td>\n",
       "      <td>[1]</td>\n",
       "      <td>0</td>\n",
       "      <td>0</td>\n",
       "      <td>{}</td>\n",
       "    </tr>\n",
       "    <tr>\n",
       "      <th>2</th>\n",
       "      <td>BERTANS, DAIRIS</td>\n",
       "      <td>460000</td>\n",
       "      <td>not-playing</td>\n",
       "      <td>{'scores': {'30': 1, '29': 5.5, '28': 0, '27':...</td>\n",
       "      <td>[3]</td>\n",
       "      <td>1</td>\n",
       "      <td>0</td>\n",
       "      <td>{}</td>\n",
       "    </tr>\n",
       "    <tr>\n",
       "      <th>3</th>\n",
       "      <td>PAPPAS, NIKOS</td>\n",
       "      <td>280000</td>\n",
       "      <td>playing</td>\n",
       "      <td>{'scores': {'33': -1, '32': -2, '31': -1.8, '3...</td>\n",
       "      <td>[3]</td>\n",
       "      <td>0</td>\n",
       "      <td>0</td>\n",
       "      <td>{}</td>\n",
       "    </tr>\n",
       "    <tr>\n",
       "      <th>4</th>\n",
       "      <td>GULER, SINAN</td>\n",
       "      <td>180000</td>\n",
       "      <td>playing</td>\n",
       "      <td>{'scores': {'23': 2.2, '22': 0, '21': 2, '19':...</td>\n",
       "      <td>[2, 3]</td>\n",
       "      <td>0</td>\n",
       "      <td>0</td>\n",
       "      <td>{}</td>\n",
       "    </tr>\n",
       "  </tbody>\n",
       "</table>\n",
       "</div>"
      ],
      "text/plain": [
       "             Player_Name    cost       status  \\\n",
       "0      STRELNIEKS, JANIS  350000      playing   \n",
       "1  KAVALIAUSKAS, ANTANAS  680000      playing   \n",
       "2        BERTANS, DAIRIS  460000  not-playing   \n",
       "3          PAPPAS, NIKOS  280000      playing   \n",
       "4           GULER, SINAN  180000      playing   \n",
       "\n",
       "                                               stats positions  is_bye  \\\n",
       "0  {'scores': {'33': 3, '32': 8.8, '31': -2, '30'...       [2]       0   \n",
       "1  {'scores': {'33': 4.4, '32': 13, '31': 2.2, '3...       [1]       0   \n",
       "2  {'scores': {'30': 1, '29': 5.5, '28': 0, '27':...       [3]       1   \n",
       "3  {'scores': {'33': -1, '32': -2, '31': -1.8, '3...       [3]       0   \n",
       "4  {'scores': {'23': 2.2, '22': 0, '21': 2, '19':...    [2, 3]       0   \n",
       "\n",
       "   locked notes  \n",
       "0       0    {}  \n",
       "1       0    {}  \n",
       "2       0    {}  \n",
       "3       0    {}  \n",
       "4       0    {}  "
      ]
     },
     "execution_count": 3,
     "metadata": {},
     "output_type": "execute_result"
    }
   ],
   "source": [
    "json_df = pd.read_json(r'players.json')\n",
    "\n",
    "# convert first_name and last_name into \"LAST_NAME, FIRST_NAME\" format\n",
    "json_df['Player_Name'] = json_df.last_name.str.upper() + ', '+ json_df.first_name.str.upper()\n",
    "\n",
    "# drop unneccessary first_name, last_name columns\n",
    "json_df = json_df.drop(columns=['first_name', 'last_name'])\n",
    "\n",
    "# reindex and change order of columns in order to better visualization\n",
    "json_df =json_df.reindex(columns=['Player_Name', 'cost', 'status', 'stats', 'positions', 'is_bye', 'locked', 'notes'])\n",
    "\n",
    "json_df.head()"
   ]
  },
  {
   "cell_type": "markdown",
   "metadata": {},
   "source": [
    "### Process Stats column and Merge with JSON DataFrame"
   ]
  },
  {
   "cell_type": "code",
   "execution_count": 4,
   "metadata": {},
   "outputs": [
    {
     "data": {
      "text/html": [
       "<div>\n",
       "<style scoped>\n",
       "    .dataframe tbody tr th:only-of-type {\n",
       "        vertical-align: middle;\n",
       "    }\n",
       "\n",
       "    .dataframe tbody tr th {\n",
       "        vertical-align: top;\n",
       "    }\n",
       "\n",
       "    .dataframe thead th {\n",
       "        text-align: right;\n",
       "    }\n",
       "</style>\n",
       "<table border=\"1\" class=\"dataframe\">\n",
       "  <thead>\n",
       "    <tr style=\"text-align: right;\">\n",
       "      <th></th>\n",
       "      <th>Player_Name</th>\n",
       "      <th>cost</th>\n",
       "      <th>status</th>\n",
       "      <th>stats</th>\n",
       "      <th>positions</th>\n",
       "      <th>is_bye</th>\n",
       "      <th>locked</th>\n",
       "      <th>notes</th>\n",
       "      <th>avg_points</th>\n",
       "      <th>games_played</th>\n",
       "      <th>...</th>\n",
       "      <th>last_5_avg</th>\n",
       "      <th>low_score</th>\n",
       "      <th>match_scores</th>\n",
       "      <th>owned_by</th>\n",
       "      <th>prices</th>\n",
       "      <th>round_rank</th>\n",
       "      <th>scores</th>\n",
       "      <th>season_rank</th>\n",
       "      <th>selections</th>\n",
       "      <th>total_points</th>\n",
       "    </tr>\n",
       "  </thead>\n",
       "  <tbody>\n",
       "    <tr>\n",
       "      <th>0</th>\n",
       "      <td>STRELNIEKS, JANIS</td>\n",
       "      <td>350000</td>\n",
       "      <td>playing</td>\n",
       "      <td>{'scores': {'33': 3, '32': 8.8, '31': -2, '30'...</td>\n",
       "      <td>[2]</td>\n",
       "      <td>0</td>\n",
       "      <td>0</td>\n",
       "      <td>{}</td>\n",
       "      <td>7.15</td>\n",
       "      <td>33.0</td>\n",
       "      <td>...</td>\n",
       "      <td>3.36</td>\n",
       "      <td>-3.0</td>\n",
       "      <td>{'2017330251': 3, '2017320247': 8.8, '20173102...</td>\n",
       "      <td>5.0</td>\n",
       "      <td>{'1': 1000000, '2': 970000, '3': 890000, '4': ...</td>\n",
       "      <td>59.0</td>\n",
       "      <td>{'33': 3, '32': 8.8, '31': -2, '30': 6, '29': ...</td>\n",
       "      <td>116.0</td>\n",
       "      <td>4966.0</td>\n",
       "      <td>235.9</td>\n",
       "    </tr>\n",
       "  </tbody>\n",
       "</table>\n",
       "<p>1 rows × 22 columns</p>\n",
       "</div>"
      ],
      "text/plain": [
       "         Player_Name    cost   status  \\\n",
       "0  STRELNIEKS, JANIS  350000  playing   \n",
       "\n",
       "                                               stats positions  is_bye  \\\n",
       "0  {'scores': {'33': 3, '32': 8.8, '31': -2, '30'...       [2]       0   \n",
       "\n",
       "   locked notes  avg_points  games_played  ...  last_5_avg  low_score  \\\n",
       "0       0    {}        7.15          33.0  ...        3.36       -3.0   \n",
       "\n",
       "                                        match_scores  owned_by  \\\n",
       "0  {'2017330251': 3, '2017320247': 8.8, '20173102...       5.0   \n",
       "\n",
       "                                              prices  round_rank  \\\n",
       "0  {'1': 1000000, '2': 970000, '3': 890000, '4': ...        59.0   \n",
       "\n",
       "                                              scores  season_rank selections  \\\n",
       "0  {'33': 3, '32': 8.8, '31': -2, '30': 6, '29': ...        116.0     4966.0   \n",
       "\n",
       "   total_points  \n",
       "0         235.9  \n",
       "\n",
       "[1 rows x 22 columns]"
      ]
     },
     "execution_count": 4,
     "metadata": {},
     "output_type": "execute_result"
    }
   ],
   "source": [
    "# create a temporary DataFrame with json_df's stats values\n",
    "temp_stats_df = pd.DataFrame(json_df.stats)\n",
    "\n",
    "# appending temp DF's rows to stats_df, recursively\n",
    "stats_df = pd.DataFrame()\n",
    "\n",
    "for ind in range(len(temp_stats_df)):\n",
    "    stats_df = stats_df.append(temp_stats_df.stats.loc[ind], ignore_index=True)\n",
    "\n",
    "# extend json_df by merging it with stats_df\n",
    "ext_json_df = pd.merge(json_df, stats_df, on=json_df.index).drop(columns='key_0')\n",
    "ext_json_df.head(1)  "
   ]
  },
  {
   "cell_type": "markdown",
   "metadata": {},
   "source": [
    "### Select Desired Columns for Visualization "
   ]
  },
  {
   "cell_type": "code",
   "execution_count": 5,
   "metadata": {},
   "outputs": [
    {
     "data": {
      "text/html": [
       "<div>\n",
       "<style scoped>\n",
       "    .dataframe tbody tr th:only-of-type {\n",
       "        vertical-align: middle;\n",
       "    }\n",
       "\n",
       "    .dataframe tbody tr th {\n",
       "        vertical-align: top;\n",
       "    }\n",
       "\n",
       "    .dataframe thead th {\n",
       "        text-align: right;\n",
       "    }\n",
       "</style>\n",
       "<table border=\"1\" class=\"dataframe\">\n",
       "  <thead>\n",
       "    <tr style=\"text-align: right;\">\n",
       "      <th></th>\n",
       "      <th>cost</th>\n",
       "      <th>avg_points</th>\n",
       "      <th>selections</th>\n",
       "    </tr>\n",
       "    <tr>\n",
       "      <th>Player_Name</th>\n",
       "      <th></th>\n",
       "      <th></th>\n",
       "      <th></th>\n",
       "    </tr>\n",
       "  </thead>\n",
       "  <tbody>\n",
       "    <tr>\n",
       "      <th>ABALDE, ALBERTO</th>\n",
       "      <td>860000</td>\n",
       "      <td>7.39</td>\n",
       "      <td>1522.0</td>\n",
       "    </tr>\n",
       "    <tr>\n",
       "      <th>ABASS, AWUDU</th>\n",
       "      <td>150000</td>\n",
       "      <td>0.74</td>\n",
       "      <td>595.0</td>\n",
       "    </tr>\n",
       "    <tr>\n",
       "      <th>ADAMS, JOSH</th>\n",
       "      <td>630000</td>\n",
       "      <td>6.66</td>\n",
       "      <td>566.0</td>\n",
       "    </tr>\n",
       "    <tr>\n",
       "      <th>AGRAVANIS, DIMITRIOS</th>\n",
       "      <td>350000</td>\n",
       "      <td>2.74</td>\n",
       "      <td>4537.0</td>\n",
       "    </tr>\n",
       "    <tr>\n",
       "      <th>ANDERSON, JAMES</th>\n",
       "      <td>660000</td>\n",
       "      <td>8.49</td>\n",
       "      <td>3854.0</td>\n",
       "    </tr>\n",
       "  </tbody>\n",
       "</table>\n",
       "</div>"
      ],
      "text/plain": [
       "                        cost  avg_points  selections\n",
       "Player_Name                                         \n",
       "ABALDE, ALBERTO       860000        7.39      1522.0\n",
       "ABASS, AWUDU          150000        0.74       595.0\n",
       "ADAMS, JOSH           630000        6.66       566.0\n",
       "AGRAVANIS, DIMITRIOS  350000        2.74      4537.0\n",
       "ANDERSON, JAMES       660000        8.49      3854.0"
      ]
     },
     "execution_count": 5,
     "metadata": {},
     "output_type": "execute_result"
    }
   ],
   "source": [
    "viz_df = ext_json_df[['Player_Name', 'cost', 'avg_points', 'selections']]\n",
    "viz_df = viz_df.set_index(viz_df.Player_Name).drop(columns = 'Player_Name').sort_index()\n",
    "viz_df.head()"
   ]
  },
  {
   "cell_type": "code",
   "execution_count": 6,
   "metadata": {},
   "outputs": [
    {
     "data": {
      "text/html": [
       "<div>\n",
       "<style scoped>\n",
       "    .dataframe tbody tr th:only-of-type {\n",
       "        vertical-align: middle;\n",
       "    }\n",
       "\n",
       "    .dataframe tbody tr th {\n",
       "        vertical-align: top;\n",
       "    }\n",
       "\n",
       "    .dataframe thead th {\n",
       "        text-align: right;\n",
       "    }\n",
       "</style>\n",
       "<table border=\"1\" class=\"dataframe\">\n",
       "  <thead>\n",
       "    <tr style=\"text-align: right;\">\n",
       "      <th></th>\n",
       "      <th>cost</th>\n",
       "      <th>avg_points</th>\n",
       "      <th>selections</th>\n",
       "    </tr>\n",
       "  </thead>\n",
       "  <tbody>\n",
       "    <tr>\n",
       "      <th>count</th>\n",
       "      <td>274.0</td>\n",
       "      <td>274.0</td>\n",
       "      <td>274.0</td>\n",
       "    </tr>\n",
       "    <tr>\n",
       "      <th>mean</th>\n",
       "      <td>728285.0</td>\n",
       "      <td>6.0</td>\n",
       "      <td>4310.0</td>\n",
       "    </tr>\n",
       "    <tr>\n",
       "      <th>std</th>\n",
       "      <td>513852.0</td>\n",
       "      <td>5.0</td>\n",
       "      <td>5685.0</td>\n",
       "    </tr>\n",
       "    <tr>\n",
       "      <th>min</th>\n",
       "      <td>120000.0</td>\n",
       "      <td>-4.0</td>\n",
       "      <td>2.0</td>\n",
       "    </tr>\n",
       "    <tr>\n",
       "      <th>25%</th>\n",
       "      <td>272500.0</td>\n",
       "      <td>2.0</td>\n",
       "      <td>1034.0</td>\n",
       "    </tr>\n",
       "    <tr>\n",
       "      <th>50%</th>\n",
       "      <td>630000.0</td>\n",
       "      <td>6.0</td>\n",
       "      <td>2271.0</td>\n",
       "    </tr>\n",
       "    <tr>\n",
       "      <th>75%</th>\n",
       "      <td>1060000.0</td>\n",
       "      <td>10.0</td>\n",
       "      <td>4945.0</td>\n",
       "    </tr>\n",
       "    <tr>\n",
       "      <th>max</th>\n",
       "      <td>2220000.0</td>\n",
       "      <td>23.0</td>\n",
       "      <td>39332.0</td>\n",
       "    </tr>\n",
       "  </tbody>\n",
       "</table>\n",
       "</div>"
      ],
      "text/plain": [
       "            cost  avg_points  selections\n",
       "count      274.0       274.0       274.0\n",
       "mean    728285.0         6.0      4310.0\n",
       "std     513852.0         5.0      5685.0\n",
       "min     120000.0        -4.0         2.0\n",
       "25%     272500.0         2.0      1034.0\n",
       "50%     630000.0         6.0      2271.0\n",
       "75%    1060000.0        10.0      4945.0\n",
       "max    2220000.0        23.0     39332.0"
      ]
     },
     "execution_count": 6,
     "metadata": {},
     "output_type": "execute_result"
    }
   ],
   "source": [
    "# Statistics\n",
    "viz_df.describe().round()"
   ]
  },
  {
   "cell_type": "markdown",
   "metadata": {},
   "source": [
    "### Plotting Histogram for Value Distribution and Scatter Plot Combinations for Analysing Correlation"
   ]
  },
  {
   "cell_type": "code",
   "execution_count": 7,
   "metadata": {},
   "outputs": [
    {
     "data": {
      "image/png": "[encoded data removed]",
      "text/plain": [
       "<Figure size 576x360 with 1 Axes>"
      ]
     },
     "metadata": {
      "needs_background": "light"
     },
     "output_type": "display_data"
    },
    {
     "data": {
      "image/png": "[encoded data removed]",
      "text/plain": [
       "<Figure size 576x360 with 1 Axes>"
      ]
     },
     "metadata": {
      "needs_background": "light"
     },
     "output_type": "display_data"
    },
    {
     "data": {
      "image/png": "[encoded data removed]",
      "text/plain": [
       "<Figure size 576x360 with 1 Axes>"
      ]
     },
     "metadata": {
      "needs_background": "light"
     },
     "output_type": "display_data"
    },
    {
     "data": {
      "image/png": "[encoded data removed]",
      "text/plain": [
       "<Figure size 576x360 with 1 Axes>"
      ]
     },
     "metadata": {
      "needs_background": "light"
     },
     "output_type": "display_data"
    },
    {
     "data": {
      "image/png": "[encoded data removed]",
      "text/plain": [
       "<Figure size 576x360 with 1 Axes>"
      ]
     },
     "metadata": {
      "needs_background": "light"
     },
     "output_type": "display_data"
    },
    {
     "data": {
      "image/png": "[encoded data removed]",
      "text/plain": [
       "<Figure size 576x360 with 1 Axes>"
      ]
     },
     "metadata": {
      "needs_background": "light"
     },
     "output_type": "display_data"
    }
   ],
   "source": [
    "viz_cols = viz_df.columns.to_list()\n",
    "combs = combinations(viz_cols, 2) \n",
    "  \n",
    "for ind, comb in enumerate(combs): \n",
    "    x = comb[0]\n",
    "    y = comb[1]\n",
    "    \n",
    "    # for each combination, scatter-plot the values\n",
    "    viz_df.plot.scatter(x=x, y=y, figsize=(8,5),rot=90, title='{} - {} Scatter Plot'.format(x,y))\n",
    "    \n",
    "    # for each column, histogram-plot the values\n",
    "    plt.figure()\n",
    "    viz_df[viz_cols[ind]].plot.hist(figsize=(8,5),rot=90, title='{} Histogram'.format(viz_cols[ind]), bins=40)\n",
    "    plt.show()"
   ]
  },
  {
   "cell_type": "markdown",
   "metadata": {},
   "source": [
    "#### There is a linearity in between average score and cost values"
   ]
  },
  {
   "cell_type": "markdown",
   "metadata": {},
   "source": [
    "### Read CSV File"
   ]
  },
  {
   "cell_type": "code",
   "execution_count": 8,
   "metadata": {},
   "outputs": [],
   "source": [
    "csv_df = pd.read_csv('players_metadata.csv', delimiter='|')"
   ]
  },
  {
   "cell_type": "code",
   "execution_count": 9,
   "metadata": {},
   "outputs": [
    {
     "data": {
      "text/html": [
       "<div>\n",
       "<style scoped>\n",
       "    .dataframe tbody tr th:only-of-type {\n",
       "        vertical-align: middle;\n",
       "    }\n",
       "\n",
       "    .dataframe tbody tr th {\n",
       "        vertical-align: top;\n",
       "    }\n",
       "\n",
       "    .dataframe thead th {\n",
       "        text-align: right;\n",
       "    }\n",
       "</style>\n",
       "<table border=\"1\" class=\"dataframe\">\n",
       "  <thead>\n",
       "    <tr style=\"text-align: right;\">\n",
       "      <th></th>\n",
       "      <th>Player_Name</th>\n",
       "      <th>position</th>\n",
       "      <th>nationality</th>\n",
       "    </tr>\n",
       "  </thead>\n",
       "  <tbody>\n",
       "    <tr>\n",
       "      <th>0</th>\n",
       "      <td>ABALDE, ALBERTO</td>\n",
       "      <td>Forward</td>\n",
       "      <td>Spain</td>\n",
       "    </tr>\n",
       "    <tr>\n",
       "      <th>1</th>\n",
       "      <td>ABASS, AWUDU</td>\n",
       "      <td>Guard</td>\n",
       "      <td>Italy</td>\n",
       "    </tr>\n",
       "    <tr>\n",
       "      <th>2</th>\n",
       "      <td>ADAMS, JOSH</td>\n",
       "      <td>Guard</td>\n",
       "      <td>United States of America</td>\n",
       "    </tr>\n",
       "    <tr>\n",
       "      <th>3</th>\n",
       "      <td>AGRAVANIS, DIMITRIS</td>\n",
       "      <td>Forward</td>\n",
       "      <td>Greece</td>\n",
       "    </tr>\n",
       "    <tr>\n",
       "      <th>4</th>\n",
       "      <td>ANDERSON, JAMES</td>\n",
       "      <td>Guard</td>\n",
       "      <td>United States of America</td>\n",
       "    </tr>\n",
       "  </tbody>\n",
       "</table>\n",
       "</div>"
      ],
      "text/plain": [
       "           Player_Name position               nationality\n",
       "0      ABALDE, ALBERTO  Forward                     Spain\n",
       "1         ABASS, AWUDU    Guard                     Italy\n",
       "2          ADAMS, JOSH    Guard  United States of America\n",
       "3  AGRAVANIS, DIMITRIS  Forward                    Greece\n",
       "4      ANDERSON, JAMES    Guard  United States of America"
      ]
     },
     "execution_count": 9,
     "metadata": {},
     "output_type": "execute_result"
    }
   ],
   "source": [
    "csv_df.head()"
   ]
  },
  {
   "cell_type": "markdown",
   "metadata": {},
   "source": [
    "### Merge CSV DataFrame with Extended JSON DataFrame"
   ]
  },
  {
   "cell_type": "code",
   "execution_count": 10,
   "metadata": {},
   "outputs": [
    {
     "data": {
      "text/html": [
       "<div>\n",
       "<style scoped>\n",
       "    .dataframe tbody tr th:only-of-type {\n",
       "        vertical-align: middle;\n",
       "    }\n",
       "\n",
       "    .dataframe tbody tr th {\n",
       "        vertical-align: top;\n",
       "    }\n",
       "\n",
       "    .dataframe thead th {\n",
       "        text-align: right;\n",
       "    }\n",
       "</style>\n",
       "<table border=\"1\" class=\"dataframe\">\n",
       "  <thead>\n",
       "    <tr style=\"text-align: right;\">\n",
       "      <th></th>\n",
       "      <th>Player_Name</th>\n",
       "      <th>cost</th>\n",
       "      <th>status</th>\n",
       "      <th>stats</th>\n",
       "      <th>positions</th>\n",
       "      <th>is_bye</th>\n",
       "      <th>locked</th>\n",
       "      <th>notes</th>\n",
       "      <th>avg_points</th>\n",
       "      <th>games_played</th>\n",
       "      <th>...</th>\n",
       "      <th>match_scores</th>\n",
       "      <th>owned_by</th>\n",
       "      <th>prices</th>\n",
       "      <th>round_rank</th>\n",
       "      <th>scores</th>\n",
       "      <th>season_rank</th>\n",
       "      <th>selections</th>\n",
       "      <th>total_points</th>\n",
       "      <th>position</th>\n",
       "      <th>nationality</th>\n",
       "    </tr>\n",
       "  </thead>\n",
       "  <tbody>\n",
       "    <tr>\n",
       "      <th>0</th>\n",
       "      <td>STRELNIEKS, JANIS</td>\n",
       "      <td>350000</td>\n",
       "      <td>playing</td>\n",
       "      <td>{'scores': {'33': 3, '32': 8.8, '31': -2, '30'...</td>\n",
       "      <td>[2]</td>\n",
       "      <td>0</td>\n",
       "      <td>0</td>\n",
       "      <td>{}</td>\n",
       "      <td>7.15</td>\n",
       "      <td>33.0</td>\n",
       "      <td>...</td>\n",
       "      <td>{'2017330251': 3, '2017320247': 8.8, '20173102...</td>\n",
       "      <td>5.0</td>\n",
       "      <td>{'1': 1000000, '2': 970000, '3': 890000, '4': ...</td>\n",
       "      <td>59.0</td>\n",
       "      <td>{'33': 3, '32': 8.8, '31': -2, '30': 6, '29': ...</td>\n",
       "      <td>116.0</td>\n",
       "      <td>4966.0</td>\n",
       "      <td>235.9</td>\n",
       "      <td>Guard</td>\n",
       "      <td>Latvia</td>\n",
       "    </tr>\n",
       "  </tbody>\n",
       "</table>\n",
       "<p>1 rows × 24 columns</p>\n",
       "</div>"
      ],
      "text/plain": [
       "         Player_Name    cost   status  \\\n",
       "0  STRELNIEKS, JANIS  350000  playing   \n",
       "\n",
       "                                               stats positions  is_bye  \\\n",
       "0  {'scores': {'33': 3, '32': 8.8, '31': -2, '30'...       [2]       0   \n",
       "\n",
       "   locked notes  avg_points  games_played  ...  \\\n",
       "0       0    {}        7.15          33.0  ...   \n",
       "\n",
       "                                        match_scores  owned_by  \\\n",
       "0  {'2017330251': 3, '2017320247': 8.8, '20173102...       5.0   \n",
       "\n",
       "                                              prices  round_rank  \\\n",
       "0  {'1': 1000000, '2': 970000, '3': 890000, '4': ...        59.0   \n",
       "\n",
       "                                              scores  season_rank selections  \\\n",
       "0  {'33': 3, '32': 8.8, '31': -2, '30': 6, '29': ...        116.0     4966.0   \n",
       "\n",
       "   total_points position  nationality  \n",
       "0         235.9    Guard       Latvia  \n",
       "\n",
       "[1 rows x 24 columns]"
      ]
     },
     "execution_count": 10,
     "metadata": {},
     "output_type": "execute_result"
    }
   ],
   "source": [
    "merged_df = pd.merge(ext_json_df, csv_df, on='Player_Name')\n",
    "merged_df.head(1)"
   ]
  },
  {
   "cell_type": "code",
   "execution_count": 11,
   "metadata": {},
   "outputs": [
    {
     "data": {
      "image/png": "[encoded data removed]",
      "text/plain": [
       "<Figure size 936x504 with 1 Axes>"
      ]
     },
     "metadata": {
      "needs_background": "light"
     },
     "output_type": "display_data"
    }
   ],
   "source": [
    "# get top 3 nationalities\n",
    "top3_nats = list(merged_df.nationality.value_counts()[:3].index)\n",
    "\n",
    "# define a DataFrame which includes players from top 3 nationalities\n",
    "top3_df = merged_df[merged_df.nationality.isin(top3_nats)]\n",
    "\n",
    "# boxplot the result\n",
    "plt.figure(figsize=(13,7))\n",
    "sns.boxplot(x='nationality',y='avg_points',hue='position',data=top3_df);"
   ]
  },
  {
   "cell_type": "markdown",
   "metadata": {},
   "source": [
    "### Further examination"
   ]
  },
  {
   "cell_type": "code",
   "execution_count": 12,
   "metadata": {},
   "outputs": [
    {
     "data": {
      "text/plain": [
       "nationality               position\n",
       "Serbia                    Guard        9\n",
       "                          Forward      8\n",
       "                          Center       7\n",
       "Spain                     Forward     11\n",
       "                          Guard        8\n",
       "                          Center       2\n",
       "United States of America  Guard       30\n",
       "                          Forward     21\n",
       "                          Center      16\n",
       "Name: position, dtype: int64"
      ]
     },
     "execution_count": 12,
     "metadata": {},
     "output_type": "execute_result"
    }
   ],
   "source": [
    "# number of players in each position by their nationality\n",
    "top3_df.groupby('nationality').position.value_counts()"
   ]
  },
  {
   "cell_type": "code",
   "execution_count": 13,
   "metadata": {},
   "outputs": [
    {
     "data": {
      "text/plain": [
       "Guard      47\n",
       "Forward    40\n",
       "Center     25\n",
       "Name: position, dtype: int64"
      ]
     },
     "execution_count": 13,
     "metadata": {},
     "output_type": "execute_result"
    }
   ],
   "source": [
    "# number of players in each position\n",
    "top3_df.position.value_counts()"
   ]
  },
  {
   "cell_type": "markdown",
   "metadata": {},
   "source": [
    "### Extract Price Change and Current-Previous Scores"
   ]
  },
  {
   "cell_type": "code",
   "execution_count": 14,
   "metadata": {},
   "outputs": [],
   "source": [
    "# a \"messy\" cell for extracting price, percentage price and score features\n",
    "\n",
    "change_df = merged_df[['Player_Name', 'scores', 'prices']]\n",
    "price_dic = {}\n",
    "per_price_dic = {}\n",
    "score_dic = {}\n",
    "for ind in range(1, len(change_df)):\n",
    "    keys = list(change_df.loc[ind]['scores'].keys())\n",
    "    keys.reverse()\n",
    "    temp_dic = {}\n",
    "    temp_per_dic = {}\n",
    "    temp_score_dic = {}\n",
    "    for round_ in range(1, len(keys)):\n",
    "        curr_score = change_df.loc[ind]['scores'][keys[round_]]\n",
    "        player_name = change_df.loc[ind]['Player_Name']\n",
    "        prev_price = change_df.loc[ind]['prices'][keys[round_-1]]\n",
    "        curr_price = change_df.loc[ind]['prices'][keys[round_]\n",
    "                                                 ]\n",
    "        price_change = curr_price - prev_price\n",
    "        percentage_price_change = round(100 * price_change / prev_price,3)\n",
    "        temp_dic[round_] = price_change \n",
    "        temp_per_dic[round_] = percentage_price_change \n",
    "        temp_score_dic[round_] = curr_score\n",
    "        \n",
    "    price_dic[change_df.loc[ind]['Player_Name']] = temp_dic\n",
    "    per_price_dic[change_df.loc[ind]['Player_Name']] = temp_per_dic\n",
    "    score_dic[change_df.loc[ind]['Player_Name']] = temp_score_dic\n",
    "price_df = pd.DataFrame(price_dic)\n",
    "per_price_df = pd.DataFrame(per_price_dic)\n",
    "score_df = pd.DataFrame(score_dic)\n"
   ]
  },
  {
   "cell_type": "markdown",
   "metadata": {},
   "source": [
    "### Extract desired features in a DataFrame according to the current round"
   ]
  },
  {
   "cell_type": "code",
   "execution_count": 15,
   "metadata": {},
   "outputs": [],
   "source": [
    "def extract_features(current_round, prev_rounds, dfs):\n",
    "    price_df, per_price_df, score_df = dfs\n",
    "    if current_round > prev_rounds:\n",
    "        notna_ind = price_df.iloc[current_round].notna()\n",
    "        per_price_change_array = np.expand_dims(per_price_df.iloc[current_round][notna_ind], axis=1)\n",
    "        curr_score = np.expand_dims(score_df.iloc[current_round][notna_ind], axis=1)\n",
    "        prev_scores = np.empty((per_price_change_array.shape[0], prev_rounds))\n",
    "        column_dic = {0:'per_change', 1:'curr_score', 2:'round'}\n",
    "        indx = price_df.columns[price_df.iloc[current_round].notna()]\n",
    "        round_ = np.expand_dims(np.asarray([current_round]*curr_score.shape[0]),axis=1)\n",
    "        for i in range(prev_rounds):\n",
    "            prev_scores[:,i] = score_df.iloc[current_round-1-i][notna_ind]\n",
    "            column_dic[i+3] = str(i + 1) +'_prev_score'\n",
    "        feature_df = pd.DataFrame(columns=column_dic.values(), data=np.concatenate((per_price_change_array, curr_score, round_, prev_scores), axis=1), index=indx)\n",
    "        return feature_df"
   ]
  },
  {
   "cell_type": "markdown",
   "metadata": {},
   "source": [
    "### Visualize Correlation Matrix"
   ]
  },
  {
   "cell_type": "code",
   "execution_count": 16,
   "metadata": {},
   "outputs": [
    {
     "data": {
      "image/png": "[encoded data removed]",
      "text/plain": [
       "<Figure size 720x720 with 1 Axes>"
      ]
     },
     "metadata": {
      "needs_background": "light"
     },
     "output_type": "display_data"
    }
   ],
   "source": [
    "test_df = extract_features(6, 5, [price_df, per_price_df, score_df])\n",
    "test_df = test_df.drop(columns='round')\n",
    "column_dic = {i : test_df.columns.to_list()[i] for i in range(len(test_df.columns.to_list()))}\n",
    "corr_matrix = test_df.corr()\n",
    "\n",
    "plt.figure(figsize=(10,10))\n",
    "ax = plt.subplot(111)\n",
    "ax.matshow(corr_matrix, cmap='Blues')\n",
    "ax.set_title('Correlation Matrix', fontsize=15)\n",
    "ax.set_xticklabels(['']+list(column_dic.values()), fontsize=11)\n",
    "ax.set_yticklabels(['']+list(column_dic.values()), fontsize=11)\n",
    "\n",
    "if corr_matrix.shape[0] < 10:\n",
    "    for (i, j), z in np.ndenumerate(corr_matrix):\n",
    "        if z > .75: \n",
    "            color = 'white'\n",
    "        else:\n",
    "            color = 'black'\n",
    "        ax.text(j, i, '{}'.format(round(z,2)), ha='center', va='center', fontsize=18, color=color)\n",
    "\n",
    "plt.show()"
   ]
  },
  {
   "cell_type": "code",
   "execution_count": 17,
   "metadata": {},
   "outputs": [],
   "source": [
    "init_round = 9\n",
    "prev_scores = 8\n",
    "feature_df = extract_features(init_round, prev_scores, [price_df, per_price_df, score_df])\n",
    "\n",
    "data_df = pd.DataFrame(columns=feature_df.columns)\n",
    "for current_round in range(4,25):\n",
    "    feature_df = extract_features(current_round, prev_scores, [price_df, per_price_df, score_df])    \n",
    "    data_df = data_df.append(feature_df)\n",
    "\n"
   ]
  },
  {
   "cell_type": "code",
   "execution_count": 18,
   "metadata": {},
   "outputs": [],
   "source": [
    "maxi = data_df['round'].max()\n",
    "threshold = int(4*maxi/5)\n",
    "\n",
    "train_df = data_df[data_df['round'] < threshold]\n",
    "test_df = data_df[data_df['round'] >= threshold]\n",
    "\n",
    "y_train  = train_df['per_change']\n",
    "y_test   = test_df['per_change']\n",
    "\n",
    "x_train = train_df.drop(columns=['curr_score', 'per_change'])\n",
    "x_test = test_df.drop(columns=['curr_score', 'per_change'])\n",
    "\n",
    "model = RandomForestRegressor(n_estimators=20, random_state=61)\n",
    "model.fit(x_train, y_train)\n",
    "\n",
    "test_preds = model.predict(x_test)\n",
    "train_preds = model.predict(x_train)\n",
    "\n",
    "test_error = mean_absolute_error(y_test, test_preds)\n",
    "train_error = mean_absolute_error(y_train, train_preds)"
   ]
  },
  {
   "cell_type": "code",
   "execution_count": 20,
   "metadata": {},
   "outputs": [
    {
     "data": {
      "text/plain": [
       "(3.8750950372208437, 1.6279236086175943)"
      ]
     },
     "execution_count": 20,
     "metadata": {},
     "output_type": "execute_result"
    }
   ],
   "source": [
    "test_error, train_error"
   ]
  }
 ],
 "metadata": {
  "kernelspec": {
   "display_name": "Python 3",
   "language": "python",
   "name": "python3"
  },
  "language_info": {
   "codemirror_mode": {
    "name": "ipython",
    "version": 3
   },
   "file_extension": ".py",
   "mimetype": "text/x-python",
   "name": "python",
   "nbconvert_exporter": "python",
   "pygments_lexer": "ipython3",
   "version": "3.6.8"
  }
 },
 "nbformat": 4,
 "nbformat_minor": 4
}
